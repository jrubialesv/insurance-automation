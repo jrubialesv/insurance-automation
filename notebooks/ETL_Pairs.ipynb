{
 "cells": [
  {
   "cell_type": "code",
   "execution_count": null,
   "metadata": {},
   "outputs": [],
   "source": [
    "import os\n",
    "import pandas as pd\n",
    "import numpy as np\n",
    "import matplotlib.pyplot as plt\n",
    "import seaborn as sns"
   ]
  },
  {
   "cell_type": "code",
   "execution_count": 67,
   "metadata": {},
   "outputs": [
    {
     "name": "stdout",
     "output_type": "stream",
     "text": [
      "Folder 1: 666 pairs of files\n",
      "Folder 1: 67 files\n",
      "Folder 2: 398 pairs of files\n",
      "Folder 2: 105 files\n",
      "Folder 3: 250 pairs of files\n",
      "Folder 3: 0 files\n",
      "Folder 4: 500 pairs of files\n",
      "Folder 4: 34 files\n",
      "Folder 5: 500 pairs of files\n",
      "Folder 5: 0 files\n",
      "Folder 6: 470 pairs of files\n",
      "Folder 6: 0 files\n",
      "Folder 7: 314 pairs of files\n",
      "Folder 7: 76 files\n",
      "Folder 8: 494 pairs of files\n",
      "Folder 8: 4 files\n",
      "Folder 9: 490 pairs of files\n",
      "Folder 9: 5 files\n",
      "Folder 10: 370 pairs of files\n",
      "Folder 10: 0 files\n"
     ]
    }
   ],
   "source": [
    "# For all folders, find how many pairs of files are there\n",
    "# For each pair, their is a csv and a jpg\n",
    "\n",
    "\n",
    "# Set the path to the folder\n",
    "path = r'C:\\Users\\juan\\My Drive\\AAUniversidad\\AAsignaturas\\Third Year\\BCSAI_22_23_THIRD__Q2\\AI STATISTICAL LEARNING & PREDICTION\\Group_project\\session_12_Group Work-20230411T153152Z-001\\session_12_Group Work'\n",
    "# go through all folders\n",
    "for i, folder in enumerate(os.listdir(path)):\n",
    "    # go through all files in each folder\n",
    "    # Keep a temporary list of files\n",
    "    temp = []\n",
    "    # No pair of files in the folder if it starts with a dot\n",
    "    pairs = []\n",
    "    if folder[0] == '.':\n",
    "        continue\n",
    "    else:\n",
    "\n",
    "        for j, file in enumerate(os.listdir(path + '/' + folder )):\n",
    "            # Append each file to the temporary list\n",
    "            temp.append(file)\n",
    "        for j, file in enumerate(os.listdir(path + '/' + folder )):\n",
    "            # If the file is a csv, find the corresponding jpg\n",
    "            if file.endswith('.csv'):\n",
    "                # Find the corresponding jpg\n",
    "                jpg = file[:-4] + '.jpg'\n",
    "                # If the jpg is in the temporary list, remove it\n",
    "                if jpg in temp:\n",
    "                    pairs.append(jpg)\n",
    "        \n",
    "        # Create a new folder to store the pairs\n",
    "        new_folder = path + '/' + folder + '_pairs'\n",
    "        os.mkdir(new_folder)\n",
    "        # Move the pairs to the new folder\n",
    "        for file in pairs:\n",
    "            os.rename(path + '/' + folder + '/' + file, new_folder + '/' + file)\n",
    "            os.rename(path + '/' + folder + '/' + file[:-4] + '.csv', new_folder + '/' + file[:-4] + '.csv')\n",
    "\n",
    "\n",
    "            # If the jpg is not in the temporary list, add it to the no_pair list\n",
    "    # Print the number of pairs of files in each folder\n",
    "    print('Folder {}: {} pairs of files'.format(i, 2 * len(pairs)))\n",
    "\n",
    "    # Print the number of files in each folder\n",
    "    print('Folder {}: {} files'.format(i, len(os.listdir(path + '/' + folder ))))                                     "
   ]
  },
  {
   "cell_type": "code",
   "execution_count": 73,
   "metadata": {},
   "outputs": [
    {
     "name": "stdout",
     "output_type": "stream",
     "text": [
      "Folder 21: 370 pairs of files\n"
     ]
    }
   ],
   "source": [
    "# Merge all the folders into one\n",
    "# Create a new folder to store the pairs\n",
    "new_folder_ = path + '/' + 'all_pairs'\n",
    "# os.mkdir(new_folder_)\n",
    "# Move the pairs to the new folder\n",
    "for i, folder in enumerate(os.listdir(path)):\n",
    "    if folder[0] == '.' or folder == 'all_pairs':\n",
    "        continue\n",
    "    # Go through all files in each folder\n",
    "    elif folder[-1] == 's':\n",
    "        for j, file in enumerate(os.listdir(path + '/' + folder )):\n",
    "            # If the file is a csv, find the corresponding jpg\n",
    "            if file.endswith('.csv'):\n",
    "                # Find the corresponding jpg\n",
    "                jpg = file[:-4] + '.jpg'\n",
    "\n",
    "                file_ = file[:-4] + '_' + str(i) + '.csv'\n",
    "                jpg_ = file[:-4] + '_' + str(i) +  '.jpg'\n",
    "                \n",
    "                if jpg:\n",
    "                    # Move the jpg and the csv to the new folder\n",
    "                    os.rename(path  + '/' + folder + '/' +  file, new_folder_  + '/' + file_)\n",
    "                    os.rename(path  + '/' + folder + '/' + jpg, new_folder_ + '/' + jpg_ )\n",
    "\n",
    "# Print the number of pairs of files in each folder \n",
    "print('Folder {}: {} pairs of files'.format(i, 2 * len(pairs)))"
   ]
  }
 ],
 "metadata": {
  "kernelspec": {
   "display_name": "Python 3",
   "language": "python",
   "name": "python3"
  },
  "language_info": {
   "codemirror_mode": {
    "name": "ipython",
    "version": 3
   },
   "file_extension": ".py",
   "mimetype": "text/x-python",
   "name": "python",
   "nbconvert_exporter": "python",
   "pygments_lexer": "ipython3",
   "version": "3.9.9"
  },
  "orig_nbformat": 4
 },
 "nbformat": 4,
 "nbformat_minor": 2
}
